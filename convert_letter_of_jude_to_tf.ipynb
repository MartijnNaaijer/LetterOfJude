{
 "cells": [
  {
   "cell_type": "code",
   "execution_count": 1,
   "id": "529799a6",
   "metadata": {},
   "outputs": [],
   "source": [
    "import collections\n",
    "import re"
   ]
  },
  {
   "cell_type": "markdown",
   "id": "576968c4",
   "metadata": {},
   "source": [
    "https://annotation.github.io/text-fabric/tf/convert/walker.html\n",
    "\n",
    "https://nbviewer.org/github/annotation/banks/blob/master/programs/convert.ipynb"
   ]
  },
  {
   "cell_type": "markdown",
   "id": "0d72c0ee",
   "metadata": {},
   "source": [
    "Nodetypes:\n",
    "1 sign\n",
    "2 word\n",
    "3 verse\n",
    "4 chapter\n",
    "5 book\n",
    "6 document\n",
    "\n",
    "dicts needed:\n",
    "1. otype\n",
    "2. oslots\n",
    "3. book\n",
    "4. chapter\n",
    "5. verse\n",
    "6. trans [transcription]\n",
    "7. \n",
    "\n",
    "\n",
    "    "
   ]
  },
  {
   "cell_type": "code",
   "execution_count": 2,
   "id": "d64426ce",
   "metadata": {},
   "outputs": [],
   "source": [
    "import os\n",
    "import re\n",
    "\n",
    "from tf.fabric import Fabric\n",
    "from tf.convert.walker import CV"
   ]
  },
  {
   "cell_type": "markdown",
   "id": "d22e3297",
   "metadata": {},
   "source": [
    "### Basic exploration of characters in document"
   ]
  },
  {
   "cell_type": "code",
   "execution_count": 12,
   "id": "b09b5f8b",
   "metadata": {},
   "outputs": [],
   "source": [
    "char_set = set()\n",
    "\n",
    "with open('transcriptions.txt', 'r', encoding='utf-8') as file:\n",
    "    for line in file:\n",
    "        line = line.strip('\\n')\n",
    "        for char in line:\n",
    "            char_set.add(char)\n",
    "            \n",
    "#char_set"
   ]
  },
  {
   "cell_type": "markdown",
   "id": "0dd3efc1",
   "metadata": {},
   "source": [
    "### Conversion to TF"
   ]
  },
  {
   "cell_type": "code",
   "execution_count": 3,
   "id": "566af24a",
   "metadata": {},
   "outputs": [],
   "source": [
    "BASE = os.path.expanduser('~/github')\n",
    "ORG = 'KU'\n",
    "REPO = 'NT'\n",
    "RELATIVE = 'tf'\n",
    "\n",
    "TF_DIR = os.path.expanduser(f'{BASE}/{ORG}/{REPO}/{RELATIVE}')\n",
    "\n",
    "VERSION = '0.1'\n",
    "\n",
    "TF_PATH = f'{TF_DIR}/{VERSION}'\n",
    "TF = Fabric(locations=TF_PATH, silent=True)"
   ]
  },
  {
   "cell_type": "code",
   "execution_count": 4,
   "id": "92fed060",
   "metadata": {},
   "outputs": [],
   "source": [
    "slotType = 'sign'"
   ]
  },
  {
   "cell_type": "code",
   "execution_count": 5,
   "id": "853ad5e0",
   "metadata": {},
   "outputs": [],
   "source": [
    "generic = {\n",
    "    'name': 'TRANSCRIPTION OF THE MANUSCRIPTS CONTAINING THE NEW TESTAMENT LETTER OF JUDE',\n",
    "    'author': 'Tommy Wasserman',\n",
    "    'contributors': 'Jan Krans, Dirk Roorda',\n",
    "    'converter': 'Martijn Naaijer',\n",
    "    'source': 'Data collected and edited by Tommy Wasserman',\n",
    "    'url': 'https://easy.dans.knaw.nl/ui/datasets/id/easy-dataset:52008',\n",
    "    'version': '0.1'\n",
    "}"
   ]
  },
  {
   "cell_type": "code",
   "execution_count": 6,
   "id": "39ee2519",
   "metadata": {},
   "outputs": [],
   "source": [
    "otext = {\n",
    "    'fmt:text-orig-full': '{g_cons} ',\n",
    "    'fmt:line-default': '{g_cons:XXX} ',\n",
    "    'sectionTypes': 'book,chapter,verse',\n",
    "    'sectionFeatures': 'book,chapter,verse',\n",
    "\n",
    "}\n",
    "\n",
    "# 'fmt:line-term': 'line#{terminator} ',\n",
    "#    'structureTypes': 'book,chapter',\n",
    "#    'structureFeatures': 'book,chapter',"
   ]
  },
  {
   "cell_type": "code",
   "execution_count": 7,
   "id": "fbdaaf4a",
   "metadata": {},
   "outputs": [],
   "source": [
    "intFeatures = {\n",
    "  'chapter',\n",
    "  'verse',\n",
    "  'ns',\n",
    "}"
   ]
  },
  {
   "cell_type": "code",
   "execution_count": 8,
   "id": "9d886c59",
   "metadata": {},
   "outputs": [],
   "source": [
    "featureMeta = {\n",
    "    'name': {\n",
    "        'description': 'name of the codex or papyrus',\n",
    "    },\n",
    "    'book': {\n",
    "        'description': 'name of a biblical book',\n",
    "    },\n",
    "    'chapter': {\n",
    "        'description': 'chapter number in a biblical book',\n",
    "    },\n",
    "    'verse': {\n",
    "        'description': 'verse number',\n",
    "    },\n",
    "    'g_cons': {\n",
    "        'description': 'representation of a word in the text',\n",
    "    },\n",
    "    'ns': {\n",
    "        'description': 'nomina sacra, divine name, often the name is abbreviated'\n",
    "    },\n",
    "    \n",
    "    'character': {\n",
    "        'description': 'greek letter',\n",
    "    },\n",
    "}"
   ]
  },
  {
   "cell_type": "code",
   "execution_count": 9,
   "id": "fe7a6833",
   "metadata": {},
   "outputs": [],
   "source": [
    "class Word:\n",
    "    def __init__(self, word_string):\n",
    "        \"\"\"\n",
    "        word_string: string representation of a Greek word in the text\n",
    "        \"\"\"\n",
    "        self.word_string = word_string\n",
    "        \n",
    "        \n",
    "    def process_nomina_sacra(self):\n",
    "        \"\"\"\n",
    "        If word has Nomina Sacra tags ('<NS>XXX</NS>'), these are removed.\n",
    "        The cleaned string is returned, together with an integer:\n",
    "        0: the word IS NOT a NS\n",
    "        1: the word IS a NS\n",
    "        \"\"\"\n",
    "        if self.word_string.startswith('<NS>'):\n",
    "            self.word_string = self.word_string.replace('<NS>', '').replace('</NS>', '')\n",
    "            return self.word_string, 1\n",
    "        else:\n",
    "            return self.word_string, 0"
   ]
  },
  {
   "cell_type": "code",
   "execution_count": 12,
   "id": "68676997",
   "metadata": {},
   "outputs": [],
   "source": [
    "def director(cv):\n",
    "    #counter = dict(\n",
    "    #  chapter=0,\n",
    "    #  verse=0,\n",
    "    #)\n",
    "    cur = dict(\n",
    "      document=None,\n",
    "      book=None,\n",
    "      chapter=None,\n",
    "      verse=None,\n",
    "      word=None\n",
    "    )\n",
    "    \n",
    "    with open('transcriptions.txt', 'r', encoding='utf-8') as file:\n",
    "        for line in file:\n",
    "            line = line.strip('\\n')\n",
    "            \n",
    "            if not line:\n",
    "                continue\n",
    "                \n",
    "            if line.startswith('<S>'):\n",
    "                \n",
    "            \n",
    "                for ntp in ('verse', 'chapter', 'book', 'document'):\n",
    "                     cv.terminate(cur[ntp])\n",
    "                     cur[ntp] = None         \n",
    "                document_name = line.strip('<S>').strip('</S>')\n",
    "                cur['document'] = cv.node('document')\n",
    "                cv.feature(cur['document'], name=document_name)\n",
    "                \n",
    "                cur['book'] = cv.node('book')  \n",
    "                cv.feature(cur['book'], book='letter_of_jude') \n",
    "                \n",
    "                cur['chapter'] = cv.node('chapter')  \n",
    "                cv.feature(cur['chapter'], chapter=1)\n",
    "                \n",
    "                \n",
    "            elif line.startswith('<V '):\n",
    "                \n",
    "                # One line starts with: '<V [20]>'\n",
    "                if line.startswith('<V ['):\n",
    "                    line = line.replace('<V [', '<V ')\n",
    "                if ']>' in line:\n",
    "                    line = line.replace(']>', '>')\n",
    "                \n",
    "                verse_nr_re = re.compile(r'<V [0-9]+>')\n",
    "                verse = verse_nr_re.search(line)\n",
    "                verse = verse.group() \n",
    "                verse_clean = verse.strip('<V ').strip('>')\n",
    "                \n",
    "                line = line.replace(verse, '').strip()\n",
    "                cur['verse'] = cv.node('verse')\n",
    "                cv.feature(\n",
    "                    cur['verse'],\n",
    "                    verse=int(verse_clean),\n",
    "                    )\n",
    "                for w in line.split():\n",
    "                    word = Word(w)\n",
    "                    cur['word'] = cv.node('word')\n",
    "                    \n",
    "                    cleaned_w, ns = word.process_nomina_sacra()\n",
    "                    cv.feature(cur['word'], ns=ns)\n",
    "                    cv.feature(cur['word'], g_cons=cleaned_w)\n",
    "                    \n",
    "                    for char in w:\n",
    "                        s = cv.slot()\n",
    "                        cv.feature(s, character=char)\n",
    "                    cv.terminate(cur['word'])\n",
    "\n",
    "                cv.terminate(cur['verse'])\n",
    "            \n",
    "                \n",
    "        for ntp in ('verse', 'chapter', 'book', 'document'):\n",
    "            cv.terminate(cur[ntp])\n",
    "            "
   ]
  },
  {
   "cell_type": "code",
   "execution_count": 13,
   "id": "73f2c27d",
   "metadata": {},
   "outputs": [
    {
     "name": "stdout",
     "output_type": "stream",
     "text": [
      "  0.00s Importing data from walking through the source ...\n",
      "   |     0.00s Preparing metadata... \n",
      "   |     0.00s No structure nodes will be set up\n",
      "   |   SECTION   TYPES:    book, chapter, verse\n",
      "   |   SECTION   FEATURES: book, chapter, verse\n",
      "   |   STRUCTURE TYPES:    \n",
      "   |   STRUCTURE FEATURES: \n",
      "   |   TEXT      FEATURES:\n",
      "   |      |   line-default         g_cons\n",
      "   |      |   text-orig-full       g_cons\n",
      "   |     0.00s OK\n",
      "   |     0.00s Following director... \n",
      "   |     4.27s \"edge\" actions: 0\n",
      "   |     4.27s \"feature\" actions: 1979890\n",
      "   |     4.27s \"node\" actions: 267214\n",
      "   |     4.27s \"resume\" actions: 0\n",
      "   |     4.27s \"slot\" actions: 1462378\n",
      "   |     4.27s \"terminate\" actions: 267782\n",
      "   |        564 x \"book\" node \n",
      "   |        564 x \"chapter\" node \n",
      "   |        564 x \"document\" node \n",
      "   |    1462378 x \"sign\" node  = slot type\n",
      "   |      15224 x \"verse\" node \n",
      "   |     250298 x \"word\" node \n",
      "   |    1729592 nodes of all types\n",
      "   |     4.40s OK\n",
      "   |     0.05s Removing unlinked nodes ... \n",
      "   |      |     0.00s    283 unlinked \"verse\" nodes: [54, 325, 351, 352, 378] ...\n",
      "   |      |     0.00s    283 unlinked nodes\n",
      "   |      |     0.00s Leaving 1729309 nodes\n",
      "   |     0.00s checking for nodes and edges ... \n",
      "   |     0.00s OK\n",
      "   |     0.00s checking features ... \n",
      "   |     0.04s OK\n",
      "   |     0.00s reordering nodes ...\n",
      "   |     0.24s Sorting 564 nodes of type \"book\"\n",
      "   |     0.31s Sorting 564 nodes of type \"chapter\"\n",
      "   |     0.37s Sorting 564 nodes of type \"document\"\n",
      "   |     0.43s Sorting 14941 nodes of type \"verse\"\n",
      "   |     0.52s Sorting 250298 nodes of type \"word\"\n",
      "   |     0.83s Max node = 1729309\n",
      "   |     0.83s OK\n",
      "   |     0.00s reassigning feature values ...\n",
      "   |      |     1.05s node feature \"book\" with 564 nodes\n",
      "   |      |     1.05s node feature \"chapter\" with 564 nodes\n",
      "   |      |     1.05s node feature \"character\" with 1462378 nodes\n",
      "   |      |     1.29s node feature \"g_cons\" with 250298 nodes\n",
      "   |      |     1.34s node feature \"name\" with 564 nodes\n",
      "   |      |     1.34s node feature \"ns\" with 250298 nodes\n",
      "   |      |     1.41s node feature \"verse\" with 14941 nodes\n",
      "   |     0.55s OK\n",
      "  0.00s Exporting 8 node and 1 edge and 1 config features to ~/github/KU/NT/tf/0.1:\n",
      "  0.00s VALIDATING oslots feature\n",
      "  0.11s VALIDATING oslots feature\n",
      "  0.11s maxSlot=    1462378\n",
      "  0.11s maxNode=    1729309\n",
      "  0.14s OK: oslots is valid\n",
      "   |     0.00s T book                 to ~/github/KU/NT/tf/0.1\n",
      "   |     0.00s T chapter              to ~/github/KU/NT/tf/0.1\n",
      "   |     1.36s T character            to ~/github/KU/NT/tf/0.1\n",
      "   |     0.26s T g_cons               to ~/github/KU/NT/tf/0.1\n",
      "   |     0.00s T name                 to ~/github/KU/NT/tf/0.1\n",
      "   |     0.19s T ns                   to ~/github/KU/NT/tf/0.1\n"
     ]
    },
    {
     "name": "stderr",
     "output_type": "stream",
     "text": [
      "IOPub data rate exceeded.\n",
      "The notebook server will temporarily stop sending output\n",
      "to the client in order to avoid crashing it.\n",
      "To change this limit, set the config variable\n",
      "`--NotebookApp.iopub_data_rate_limit`.\n",
      "\n",
      "Current values:\n",
      "NotebookApp.iopub_data_rate_limit=1000000.0 (bytes/sec)\n",
      "NotebookApp.rate_limit_window=3.0 (secs)\n",
      "\n"
     ]
    },
    {
     "name": "stdout",
     "output_type": "stream",
     "text": [
      "   |     0.02s T verse                to ~/github/KU/NT/tf/0.1\n",
      "   |     0.85s T oslots               to ~/github/KU/NT/tf/0.1\n",
      "   |     0.00s M otext                to ~/github/KU/NT/tf/0.1\n",
      "  3.33s Exported 8 node features and 1 edge features and 1 config features to ~/github/KU/NT/tf/0.1\n"
     ]
    },
    {
     "data": {
      "text/plain": [
       "True"
      ]
     },
     "execution_count": 13,
     "metadata": {},
     "output_type": "execute_result"
    }
   ],
   "source": [
    "cv = CV(TF)\n",
    "\n",
    "good = cv.walk(\n",
    "    director,\n",
    "    slotType,\n",
    "    otext=otext,\n",
    "    generic=generic,\n",
    "    intFeatures=intFeatures,\n",
    "    featureMeta=featureMeta,\n",
    ")\n",
    "\n",
    "good"
   ]
  }
 ],
 "metadata": {
  "kernelspec": {
   "display_name": "Python 3 (ipykernel)",
   "language": "python",
   "name": "python3"
  },
  "language_info": {
   "codemirror_mode": {
    "name": "ipython",
    "version": 3
   },
   "file_extension": ".py",
   "mimetype": "text/x-python",
   "name": "python",
   "nbconvert_exporter": "python",
   "pygments_lexer": "ipython3",
   "version": "3.9.7"
  }
 },
 "nbformat": 4,
 "nbformat_minor": 5
}
